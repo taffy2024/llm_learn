{
 "cells": [
  {
   "cell_type": "markdown",
   "id": "e74366ef",
   "metadata": {},
   "source": [
    "为什么日常使用的大模型都是decoder-only的架构？"
   ]
  },
  {
   "cell_type": "markdown",
   "id": "ce3dae4f",
   "metadata": {},
   "source": [
    "业界上一般先训练大模型再缩小，那能否先训练小模型再放大后继续训练？"
   ]
  },
  {
   "cell_type": "markdown",
   "id": "52e4ddef",
   "metadata": {},
   "source": []
  }
 ],
 "metadata": {
  "language_info": {
   "name": "python"
  }
 },
 "nbformat": 4,
 "nbformat_minor": 5
}
