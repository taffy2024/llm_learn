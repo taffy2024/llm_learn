{
 "cells": [
  {
   "cell_type": "markdown",
   "id": "2ea0fc6b",
   "metadata": {},
   "source": [
    "# 显存优化"
   ]
  },
  {
   "cell_type": "markdown",
   "id": "25dd193f",
   "metadata": {},
   "source": [
    "## 显存占用分析"
   ]
  },
  {
   "cell_type": "markdown",
   "id": "59e6f676",
   "metadata": {},
   "source": [
    "模型权重————4byte*模型参数量\n",
    "优化器状态————8byte*模型参数量\n",
    "梯度————4byte*模型参数量\n",
    "前向激活值————序列长度、隐层维度、btach大小等因素"
   ]
  },
  {
   "cell_type": "markdown",
   "id": "1dd34a47",
   "metadata": {},
   "source": [
    "## step1导包"
   ]
  },
  {
   "cell_type": "code",
   "execution_count": null,
   "id": "b1be13ab",
   "metadata": {},
   "outputs": [],
   "source": [
    "from transformers import AutoTokenizer,AutoModelForSequenceClassification,Trainer,TrainingArguments\n",
    "from datasets import load_dataset"
   ]
  },
  {
   "cell_type": "markdown",
   "id": "426e3225",
   "metadata": {},
   "source": [
    "## step2加载数据集"
   ]
  },
  {
   "cell_type": "code",
   "execution_count": null,
   "id": "73bcaddc",
   "metadata": {},
   "outputs": [],
   "source": [
    "dataset = load_dataset(\"lansinuote/ChnSentiCorp\", split=\"train\")\n",
    "dataset"
   ]
  },
  {
   "cell_type": "markdown",
   "id": "a5409366",
   "metadata": {},
   "source": [
    "## step3划分数据集"
   ]
  },
  {
   "cell_type": "code",
   "execution_count": null,
   "id": "81906227",
   "metadata": {},
   "outputs": [],
   "source": [
    "datasets=dataset.train_test_split(test_size=0.1) #将10%的数据作为测试集，剩下90%的数据作为训练集\n",
    "datasets"
   ]
  },
  {
   "cell_type": "markdown",
   "id": "da32272a",
   "metadata": {},
   "source": []
  },
  {
   "cell_type": "markdown",
   "id": "7e5b3835",
   "metadata": {},
   "source": [
    "## step4数据集预处理"
   ]
  },
  {
   "cell_type": "code",
   "execution_count": null,
   "id": "665a1c96",
   "metadata": {},
   "outputs": [],
   "source": [
    "import torch\n",
    "\n",
    "tokenizer=AutoTokenizer.from_pretrained(\"hfl/rbt3\") #加载分词器\n",
    "\n",
    "def process_function(examples):\n",
    "    tokenized_examples=tokenizer(\n",
    "        examples[\"text\"], #对每条文本进行分词\n",
    "        max_length=128,     #限制序列最大长度为128\n",
    "        truncation=True,    #超过长度则截断\n",
    "        padding=\"max_length\") #不够长度则用pad补齐到max_length\n",
    "    tokenized_examples[\"labels\"]=examples[\"label\"]\n",
    "    return tokenized_examples\n",
    "\n",
    "tokenized_datasets=datasets.map(process_function,batched=True,remove_columns=datasets[\"train\"].column_names)\n",
    "tokenized_datasets"
   ]
  },
  {
   "cell_type": "markdown",
   "id": "4907791d",
   "metadata": {},
   "source": [
    "## step5创建模型"
   ]
  },
  {
   "cell_type": "code",
   "execution_count": null,
   "id": "8ea35137",
   "metadata": {},
   "outputs": [],
   "source": [
    "model=AutoModelForSequenceClassification.from_pretrained(\"hfl/rbt3\")"
   ]
  },
  {
   "cell_type": "markdown",
   "id": "7f9b8bef",
   "metadata": {},
   "source": [
    "## step6创建评估函数"
   ]
  },
  {
   "cell_type": "code",
   "execution_count": null,
   "id": "a08ca005",
   "metadata": {},
   "outputs": [],
   "source": [
    "import evaluate\n",
    "#可根据任务类型在huggingface上选择提供的适配指标\n",
    "acc_metric=evaluate.load(\"accuracy\")\n",
    "f1_metric=evaluate.load(\"f1\")"
   ]
  },
  {
   "cell_type": "code",
   "execution_count": null,
   "id": "544c7190",
   "metadata": {},
   "outputs": [],
   "source": [
    "def eval_metric(eval_predict):\n",
    "    predictions,labels=eval_predict\n",
    "    predictions=predictions.argmax(axis=-1)\n",
    "    acc=acc_metric.compute(predictions=predictions,references=labels)\n",
    "    f1=f1_metric.compute(predictions=predictions,references=labels)\n",
    "    acc.update(f1)\n",
    "    return acc"
   ]
  },
  {
   "cell_type": "markdown",
   "id": "de3d6d02",
   "metadata": {},
   "source": [
    "## step7创建trainingargument"
   ]
  },
  {
   "cell_type": "code",
   "execution_count": null,
   "id": "ed853705",
   "metadata": {},
   "outputs": [],
   "source": [
    "train_args = TrainingArguments(output_dir=\"./checkpoints\",      # 输出文件夹\n",
    "                               per_device_train_batch_size=2,   # 训练时的batch_size\n",
    "                               per_device_eval_batch_size=4,    # 验证时的batch_size\n",
    "                               num_train_epochs=1,              # 训练轮数\n",
    "                               logging_steps=10,                # log 打印的频率\n",
    "                               eval_strategy=\"epoch\",     # 评估策略\n",
    "                               save_strategy=\"epoch\",           # 保存策略\n",
    "                               save_total_limit=3,              # 最大保存数\n",
    "                               learning_rate=2e-5,              # 学习率\n",
    "                               weight_decay=0.001,              # weight_decay\n",
    "                               metric_for_best_model=\"f1\",      # 设定评估指标\n",
    "\n",
    "                               gradient_accumulation_steps=32,  #优化1：梯度累加 BS1 GA32\n",
    "                               load_best_model_at_end=True)     # 训练完成后加载最优模型\n",
    "train_args"
   ]
  },
  {
   "cell_type": "markdown",
   "id": "3542f1c1",
   "metadata": {},
   "source": [
    "## step8 创建trainer"
   ]
  },
  {
   "cell_type": "code",
   "execution_count": null,
   "id": "2476bac3",
   "metadata": {},
   "outputs": [],
   "source": [
    "from transformers import DataCollatorWithPadding\n",
    "#冻结参数\n",
    "for name,param in model.bert.named_parameters():\n",
    "    param.requires_grad=False\n",
    "\n",
    "trainer = Trainer(model=model, \n",
    "                  args=train_args, \n",
    "                  tokenizer=tokenizer,\n",
    "                  train_dataset=tokenized_datasets[\"train\"], \n",
    "                  eval_dataset=tokenized_datasets[\"test\"], \n",
    "                  data_collator=DataCollatorWithPadding(tokenizer=tokenizer),\n",
    "                  compute_metrics=eval_metric)"
   ]
  },
  {
   "cell_type": "markdown",
   "id": "e7d8ea94",
   "metadata": {},
   "source": [
    "## step9模型训练"
   ]
  },
  {
   "cell_type": "code",
   "execution_count": null,
   "id": "118bbfb0",
   "metadata": {},
   "outputs": [],
   "source": [
    "trainer.train()"
   ]
  },
  {
   "cell_type": "code",
   "execution_count": null,
   "id": "fc220420",
   "metadata": {},
   "outputs": [],
   "source": [
    "trainer.evaluate(tokenized_datasets[\"test\"])"
   ]
  },
  {
   "cell_type": "code",
   "execution_count": null,
   "id": "fec25c93",
   "metadata": {},
   "outputs": [],
   "source": [
    "trainer.predict(tokenized_datasets[\"test\"])"
   ]
  },
  {
   "cell_type": "markdown",
   "id": "79cf55d3",
   "metadata": {},
   "source": [
    "## step10模型预测"
   ]
  },
  {
   "cell_type": "code",
   "execution_count": null,
   "id": "1337a002",
   "metadata": {},
   "outputs": [],
   "source": [
    "sen = \"我觉得这家酒店不错，饭很好吃！\"\n",
    "id2_label = {0: \"差评！\", 1: \"好评！\"}\n",
    "model.eval()\n",
    "with torch.inference_mode():\n",
    "    inputs = tokenizer(sen, return_tensors=\"pt\")\n",
    "\n",
    "    logits = model(**inputs).logits\n",
    "    pred = torch.argmax(logits, dim=-1)\n",
    "    print(f\"输入：{sen}\\n模型预测结果:{id2_label.get(pred.item())}\")"
   ]
  },
  {
   "cell_type": "code",
   "execution_count": null,
   "id": "c77fa70a",
   "metadata": {},
   "outputs": [],
   "source": [
    "from transformers import pipeline\n",
    "\n",
    "model.config.id2label = id2_label\n",
    "pipe = pipeline(\"text-classification\", model=model, tokenizer=tokenizer, device=0)\n"
   ]
  },
  {
   "cell_type": "code",
   "execution_count": null,
   "id": "93a658ab",
   "metadata": {},
   "outputs": [],
   "source": [
    "pipe(sen)"
   ]
  }
 ],
 "metadata": {
  "kernelspec": {
   "display_name": "transformers-py310",
   "language": "python",
   "name": "python3"
  },
  "language_info": {
   "codemirror_mode": {
    "name": "ipython",
    "version": 3
   },
   "file_extension": ".py",
   "mimetype": "text/x-python",
   "name": "python",
   "nbconvert_exporter": "python",
   "pygments_lexer": "ipython3",
   "version": "3.10.18"
  }
 },
 "nbformat": 4,
 "nbformat_minor": 5
}
