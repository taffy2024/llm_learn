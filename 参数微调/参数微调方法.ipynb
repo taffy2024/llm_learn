{
 "cells": [
  {
   "cell_type": "markdown",
   "id": "09a67059",
   "metadata": {},
   "source": [
    "<img src=\"参数微调方法.png\" alt=\"图片描述\" width=\"1000\">"
   ]
  },
  {
   "cell_type": "markdown",
   "id": "d3eb3d99",
   "metadata": {},
   "source": [
    "参数微调大致分为三类。第一类是全参数微调，也就是更新模型的全部参数，这种方式效果最好但代价最高。第二类是参数高效微调，只调整少量参数以降低训练成本，其中包括增量参数方法如lora和ia3，偏置调整方法如bitfit，以及提示调节方法如prompt tuning。这些方法通过增加少量可训练模块或向量，使模型能快速适应新任务。第三类是部分层微调，只解冻模型的一部分层进行训练"
   ]
  },
  {
   "cell_type": "markdown",
   "id": "8ab04bcb",
   "metadata": {},
   "source": []
  }
 ],
 "metadata": {
  "language_info": {
   "name": "python"
  }
 },
 "nbformat": 4,
 "nbformat_minor": 5
}
