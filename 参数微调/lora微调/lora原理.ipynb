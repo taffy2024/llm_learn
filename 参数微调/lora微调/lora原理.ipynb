{
 "cells": [
  {
   "cell_type": "markdown",
   "id": "664acc54",
   "metadata": {},
   "source": [
    "## lora调整的参数"
   ]
  },
  {
   "cell_type": "markdown",
   "id": "de8d0823",
   "metadata": {},
   "source": [
    "<img src=\"lora参数.png\" alt=\"图片描述\" width=\"800\">"
   ]
  },
  {
   "cell_type": "markdown",
   "id": "b3f6a37e",
   "metadata": {},
   "source": [
    "## lora流程：初始化-》计算损失-》反向传播更新—》迭代优化"
   ]
  },
  {
   "cell_type": "markdown",
   "id": "ad698deb",
   "metadata": {},
   "source": [
    "<img src=\"初始化.png\" alt=\"图片描述\" width=\"500\">\n",
    "<img src=\"计算损失.png\" alt=\"图片描述\" width=\"500\">\n",
    "<img src=\"反向传播更新.png\" alt=\"图片描述\" width=\"500\">\n",
    "<img src=\"迭代优化.png\" alt=\"图片描述\" width=\"500\">"
   ]
  },
  {
   "cell_type": "markdown",
   "id": "22c0f27e",
   "metadata": {},
   "source": [
    "## lora在transformer架构的应用"
   ]
  },
  {
   "cell_type": "markdown",
   "id": "37e98302",
   "metadata": {},
   "source": [
    "1.注意力层：<img src=\"注意力层.png\" alt=\"图片描述\" width=\"500\"> <br>\n",
    "2.FFN：<img src=\"FFN.png\" alt=\"图片描述\" width=\"500\">"
   ]
  },
  {
   "cell_type": "markdown",
   "id": "d39ac94c",
   "metadata": {},
   "source": []
  }
 ],
 "metadata": {
  "language_info": {
   "name": "python"
  }
 },
 "nbformat": 4,
 "nbformat_minor": 5
}
