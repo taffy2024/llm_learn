{
 "cells": [
  {
   "cell_type": "code",
   "execution_count": 57,
   "id": "451a8f27",
   "metadata": {},
   "outputs": [],
   "source": [
    "from transformers import AutoTokenizer,AutoModelForCausalLM\n",
    "\n",
    "model_name=\"uer/gpt2-chinese-cluecorpussmall\"\n",
    "tokenizer=AutoTokenizer.from_pretrained(model_name)\n",
    "model=AutoModelForCausalLM.from_pretrained(model_name)"
   ]
  },
  {
   "cell_type": "code",
   "execution_count": 58,
   "id": "6a6776cd",
   "metadata": {},
   "outputs": [
    {
     "name": "stdout",
     "output_type": "stream",
     "text": [
      "Looking in indexes: https://mirrors.tuna.tsinghua.edu.cn/pypi/web/simple\n",
      "Requirement already satisfied: peft in c:\\users\\surface\\miniconda3\\envs\\transformers-py310\\lib\\site-packages (0.17.1)\n",
      "Requirement already satisfied: numpy>=1.17 in c:\\users\\surface\\miniconda3\\envs\\transformers-py310\\lib\\site-packages (from peft) (2.2.6)\n",
      "Requirement already satisfied: packaging>=20.0 in c:\\users\\surface\\miniconda3\\envs\\transformers-py310\\lib\\site-packages (from peft) (25.0)\n",
      "Requirement already satisfied: psutil in c:\\users\\surface\\miniconda3\\envs\\transformers-py310\\lib\\site-packages (from peft) (7.1.0)\n",
      "Requirement already satisfied: pyyaml in c:\\users\\surface\\miniconda3\\envs\\transformers-py310\\lib\\site-packages (from peft) (6.0.3)\n",
      "Requirement already satisfied: torch>=1.13.0 in c:\\users\\surface\\miniconda3\\envs\\transformers-py310\\lib\\site-packages (from peft) (2.8.0+cpu)\n",
      "Requirement already satisfied: transformers in c:\\users\\surface\\miniconda3\\envs\\transformers-py310\\lib\\site-packages (from peft) (4.57.0)\n",
      "Requirement already satisfied: tqdm in c:\\users\\surface\\miniconda3\\envs\\transformers-py310\\lib\\site-packages (from peft) (4.67.1)\n",
      "Requirement already satisfied: accelerate>=0.21.0 in c:\\users\\surface\\miniconda3\\envs\\transformers-py310\\lib\\site-packages (from peft) (1.10.1)\n",
      "Requirement already satisfied: safetensors in c:\\users\\surface\\miniconda3\\envs\\transformers-py310\\lib\\site-packages (from peft) (0.6.2)\n",
      "Requirement already satisfied: huggingface_hub>=0.25.0 in c:\\users\\surface\\miniconda3\\envs\\transformers-py310\\lib\\site-packages (from peft) (0.35.3)\n",
      "Requirement already satisfied: filelock in c:\\users\\surface\\miniconda3\\envs\\transformers-py310\\lib\\site-packages (from huggingface_hub>=0.25.0->peft) (3.19.1)\n",
      "Requirement already satisfied: fsspec>=2023.5.0 in c:\\users\\surface\\miniconda3\\envs\\transformers-py310\\lib\\site-packages (from huggingface_hub>=0.25.0->peft) (2025.9.0)\n",
      "Requirement already satisfied: requests in c:\\users\\surface\\miniconda3\\envs\\transformers-py310\\lib\\site-packages (from huggingface_hub>=0.25.0->peft) (2.32.5)\n",
      "Requirement already satisfied: typing-extensions>=3.7.4.3 in c:\\users\\surface\\miniconda3\\envs\\transformers-py310\\lib\\site-packages (from huggingface_hub>=0.25.0->peft) (4.15.0)\n",
      "Requirement already satisfied: sympy>=1.13.3 in c:\\users\\surface\\miniconda3\\envs\\transformers-py310\\lib\\site-packages (from torch>=1.13.0->peft) (1.13.3)\n",
      "Requirement already satisfied: networkx in c:\\users\\surface\\miniconda3\\envs\\transformers-py310\\lib\\site-packages (from torch>=1.13.0->peft) (3.3)\n",
      "Requirement already satisfied: jinja2 in c:\\users\\surface\\miniconda3\\envs\\transformers-py310\\lib\\site-packages (from torch>=1.13.0->peft) (3.1.4)\n",
      "Requirement already satisfied: mpmath<1.4,>=1.1.0 in c:\\users\\surface\\miniconda3\\envs\\transformers-py310\\lib\\site-packages (from sympy>=1.13.3->torch>=1.13.0->peft) (1.3.0)\n",
      "Requirement already satisfied: colorama in c:\\users\\surface\\miniconda3\\envs\\transformers-py310\\lib\\site-packages (from tqdm->peft) (0.4.6)\n",
      "Requirement already satisfied: MarkupSafe>=2.0 in c:\\users\\surface\\miniconda3\\envs\\transformers-py310\\lib\\site-packages (from jinja2->torch>=1.13.0->peft) (2.1.5)\n",
      "Requirement already satisfied: charset_normalizer<4,>=2 in c:\\users\\surface\\miniconda3\\envs\\transformers-py310\\lib\\site-packages (from requests->huggingface_hub>=0.25.0->peft) (3.4.3)\n",
      "Requirement already satisfied: idna<4,>=2.5 in c:\\users\\surface\\miniconda3\\envs\\transformers-py310\\lib\\site-packages (from requests->huggingface_hub>=0.25.0->peft) (3.10)\n",
      "Requirement already satisfied: urllib3<3,>=1.21.1 in c:\\users\\surface\\miniconda3\\envs\\transformers-py310\\lib\\site-packages (from requests->huggingface_hub>=0.25.0->peft) (2.5.0)\n",
      "Requirement already satisfied: certifi>=2017.4.17 in c:\\users\\surface\\miniconda3\\envs\\transformers-py310\\lib\\site-packages (from requests->huggingface_hub>=0.25.0->peft) (2025.10.5)\n",
      "Requirement already satisfied: regex!=2019.12.17 in c:\\users\\surface\\miniconda3\\envs\\transformers-py310\\lib\\site-packages (from transformers->peft) (2025.9.18)\n",
      "Requirement already satisfied: tokenizers<=0.23.0,>=0.22.0 in c:\\users\\surface\\miniconda3\\envs\\transformers-py310\\lib\\site-packages (from transformers->peft) (0.22.1)\n"
     ]
    }
   ],
   "source": [
    "!pip install peft\n"
   ]
  },
  {
   "cell_type": "code",
   "execution_count": 59,
   "id": "de118364",
   "metadata": {},
   "outputs": [],
   "source": [
    "from datasets import load_dataset\n",
    "dataset=load_dataset(\"Iess/chinese_modern_poetry\", split=\"train\")\n",
    "dataset= dataset.shuffle(seed=42).select(range(50))"
   ]
  },
  {
   "cell_type": "code",
   "execution_count": 60,
   "id": "9db6bb51",
   "metadata": {},
   "outputs": [
    {
     "name": "stdout",
     "output_type": "stream",
     "text": [
      "['uuid', 'prompt', 'response']\n"
     ]
    }
   ],
   "source": [
    "print(dataset.column_names)\n",
    "\n"
   ]
  },
  {
   "cell_type": "code",
   "execution_count": 61,
   "id": "66926465",
   "metadata": {},
   "outputs": [
    {
     "name": "stderr",
     "output_type": "stream",
     "text": [
      "Map:   0%|          | 0/50 [00:00<?, ? examples/s]"
     ]
    },
    {
     "name": "stderr",
     "output_type": "stream",
     "text": [
      "Map: 100%|██████████| 50/50 [00:00<00:00, 296.49 examples/s]\n"
     ]
    }
   ],
   "source": [
    "def tokenize_fn(examples):\n",
    "    return tokenizer(examples[\"response\"], truncation=True, padding=\"max_length\", max_length=128)\n",
    "\n",
    "tokenized_dataset = dataset.map(tokenize_fn, batched=True)\n"
   ]
  },
  {
   "cell_type": "code",
   "execution_count": 62,
   "id": "606016f7",
   "metadata": {},
   "outputs": [],
   "source": [
    "from peft import LoraConfig, get_peft_model\n",
    "\n",
    "lora_config = LoraConfig(\n",
    "    r=8,\n",
    "    lora_alpha=16,\n",
    "    target_modules=[\"c_attn\"],  # GPT-2 注意力层\n",
    "    lora_dropout=0.1,\n",
    "    bias=\"none\",\n",
    "    task_type=\"CAUSAL_LM\"\n",
    ")\n",
    "model = get_peft_model(model, lora_config)\n"
   ]
  },
  {
   "cell_type": "code",
   "execution_count": 63,
   "id": "0c06ca03",
   "metadata": {},
   "outputs": [],
   "source": [
    "from transformers import Trainer, TrainingArguments, DataCollatorForLanguageModeling\n",
    "\n",
    "training_args = TrainingArguments(\n",
    "    output_dir=\"./lora_output\",\n",
    "    per_device_train_batch_size=8,\n",
    "    num_train_epochs=3,\n",
    "    learning_rate=3e-4,\n",
    "    logging_steps=10,\n",
    "    save_steps=50,\n",
    "    save_total_limit=2,\n",
    "    fp16=True,\n",
    "    save_safetensors=False\n",
    ")\n",
    "\n",
    "data_collator = DataCollatorForLanguageModeling(tokenizer, mlm=False)\n",
    "\n",
    "trainer = Trainer(\n",
    "    model=model,\n",
    "    args=training_args,\n",
    "    train_dataset=tokenized_dataset,\n",
    "    data_collator=data_collator\n",
    ")\n"
   ]
  },
  {
   "cell_type": "code",
   "execution_count": 64,
   "id": "110c2ee4",
   "metadata": {},
   "outputs": [
    {
     "data": {
      "text/html": [
       "\n",
       "    <div>\n",
       "      \n",
       "      <progress value='21' max='21' style='width:300px; height:20px; vertical-align: middle;'></progress>\n",
       "      [21/21 04:05, Epoch 3/3]\n",
       "    </div>\n",
       "    <table border=\"1\" class=\"dataframe\">\n",
       "  <thead>\n",
       " <tr style=\"text-align: left;\">\n",
       "      <th>Step</th>\n",
       "      <th>Training Loss</th>\n",
       "    </tr>\n",
       "  </thead>\n",
       "  <tbody>\n",
       "    <tr>\n",
       "      <td>10</td>\n",
       "      <td>4.065800</td>\n",
       "    </tr>\n",
       "    <tr>\n",
       "      <td>20</td>\n",
       "      <td>4.004200</td>\n",
       "    </tr>\n",
       "  </tbody>\n",
       "</table><p>"
      ],
      "text/plain": [
       "<IPython.core.display.HTML object>"
      ]
     },
     "metadata": {},
     "output_type": "display_data"
    },
    {
     "data": {
      "text/plain": [
       "TrainOutput(global_step=21, training_loss=3.998757146653675, metrics={'train_runtime': 277.8213, 'train_samples_per_second': 0.54, 'train_steps_per_second': 0.076, 'total_flos': 9832425062400.0, 'train_loss': 3.998757146653675, 'epoch': 3.0})"
      ]
     },
     "execution_count": 64,
     "metadata": {},
     "output_type": "execute_result"
    }
   ],
   "source": [
    "trainer.train()\n"
   ]
  },
  {
   "cell_type": "code",
   "execution_count": 65,
   "id": "87af6b5e",
   "metadata": {},
   "outputs": [
    {
     "name": "stderr",
     "output_type": "stream",
     "text": [
      "Setting `pad_token_id` to `eos_token_id`:50256 for open-end generation.\n"
     ]
    },
    {
     "name": "stdout",
     "output_type": "stream",
     "text": [
      "春 风 又 绿 江 南 水 ， 雨 中 又 绿 江 南 水 ， 一 片 白 水 与 江 南 水 共 同 组 成 雨 中 又 绿 江 南 水 ， 是 生 态 性 水 系 ， 是 人 类\n"
     ]
    }
   ],
   "source": [
    "prompt = \"春风又绿江南水，\"\n",
    "inputs = tokenizer(prompt, return_tensors=\"pt\")\n",
    "outputs = model.generate(**inputs, max_length=50, do_sample=True, top_k=50)\n",
    "print(tokenizer.decode(outputs[0], skip_special_tokens=True))\n"
   ]
  }
 ],
 "metadata": {
  "kernelspec": {
   "display_name": "transformers-py310",
   "language": "python",
   "name": "python3"
  },
  "language_info": {
   "codemirror_mode": {
    "name": "ipython",
    "version": 3
   },
   "file_extension": ".py",
   "mimetype": "text/x-python",
   "name": "python",
   "nbconvert_exporter": "python",
   "pygments_lexer": "ipython3",
   "version": "3.10.18"
  }
 },
 "nbformat": 4,
 "nbformat_minor": 5
}
