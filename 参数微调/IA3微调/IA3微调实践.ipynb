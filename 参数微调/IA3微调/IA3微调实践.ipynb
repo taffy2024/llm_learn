{
 "cells": [
  {
   "cell_type": "code",
   "execution_count": 18,
   "id": "e1d22532",
   "metadata": {},
   "outputs": [],
   "source": [
    "from datasets import load_dataset\n",
    "from transformers import AutoTokenizer,AutoModelForSequenceClassification,TrainingArguments,Trainer\n",
    "\n"
   ]
  },
  {
   "cell_type": "code",
   "execution_count": 19,
   "id": "bdcd6199",
   "metadata": {},
   "outputs": [
    {
     "name": "stdout",
     "output_type": "stream",
     "text": [
      "Looking in indexes: https://mirrors.tuna.tsinghua.edu.cn/pypi/web/simple\n",
      "Requirement already satisfied: peft in c:\\users\\surface\\miniconda3\\envs\\transformers-py310\\lib\\site-packages (0.17.1)\n",
      "Requirement already satisfied: numpy>=1.17 in c:\\users\\surface\\miniconda3\\envs\\transformers-py310\\lib\\site-packages (from peft) (2.2.6)\n",
      "Requirement already satisfied: packaging>=20.0 in c:\\users\\surface\\miniconda3\\envs\\transformers-py310\\lib\\site-packages (from peft) (25.0)\n",
      "Requirement already satisfied: psutil in c:\\users\\surface\\miniconda3\\envs\\transformers-py310\\lib\\site-packages (from peft) (7.1.0)\n",
      "Requirement already satisfied: pyyaml in c:\\users\\surface\\miniconda3\\envs\\transformers-py310\\lib\\site-packages (from peft) (6.0.3)\n",
      "Requirement already satisfied: torch>=1.13.0 in c:\\users\\surface\\miniconda3\\envs\\transformers-py310\\lib\\site-packages (from peft) (2.8.0+cpu)\n",
      "Requirement already satisfied: transformers in c:\\users\\surface\\miniconda3\\envs\\transformers-py310\\lib\\site-packages (from peft) (4.57.0)\n",
      "Requirement already satisfied: tqdm in c:\\users\\surface\\miniconda3\\envs\\transformers-py310\\lib\\site-packages (from peft) (4.67.1)\n",
      "Requirement already satisfied: accelerate>=0.21.0 in c:\\users\\surface\\miniconda3\\envs\\transformers-py310\\lib\\site-packages (from peft) (1.10.1)\n",
      "Requirement already satisfied: safetensors in c:\\users\\surface\\miniconda3\\envs\\transformers-py310\\lib\\site-packages (from peft) (0.6.2)\n",
      "Requirement already satisfied: huggingface_hub>=0.25.0 in c:\\users\\surface\\miniconda3\\envs\\transformers-py310\\lib\\site-packages (from peft) (0.35.3)\n",
      "Requirement already satisfied: filelock in c:\\users\\surface\\miniconda3\\envs\\transformers-py310\\lib\\site-packages (from huggingface_hub>=0.25.0->peft) (3.19.1)\n",
      "Requirement already satisfied: fsspec>=2023.5.0 in c:\\users\\surface\\miniconda3\\envs\\transformers-py310\\lib\\site-packages (from huggingface_hub>=0.25.0->peft) (2025.9.0)\n",
      "Requirement already satisfied: requests in c:\\users\\surface\\miniconda3\\envs\\transformers-py310\\lib\\site-packages (from huggingface_hub>=0.25.0->peft) (2.32.5)\n",
      "Requirement already satisfied: typing-extensions>=3.7.4.3 in c:\\users\\surface\\miniconda3\\envs\\transformers-py310\\lib\\site-packages (from huggingface_hub>=0.25.0->peft) (4.15.0)\n",
      "Requirement already satisfied: sympy>=1.13.3 in c:\\users\\surface\\miniconda3\\envs\\transformers-py310\\lib\\site-packages (from torch>=1.13.0->peft) (1.13.3)\n",
      "Requirement already satisfied: networkx in c:\\users\\surface\\miniconda3\\envs\\transformers-py310\\lib\\site-packages (from torch>=1.13.0->peft) (3.3)\n",
      "Requirement already satisfied: jinja2 in c:\\users\\surface\\miniconda3\\envs\\transformers-py310\\lib\\site-packages (from torch>=1.13.0->peft) (3.1.4)\n",
      "Requirement already satisfied: mpmath<1.4,>=1.1.0 in c:\\users\\surface\\miniconda3\\envs\\transformers-py310\\lib\\site-packages (from sympy>=1.13.3->torch>=1.13.0->peft) (1.3.0)\n",
      "Requirement already satisfied: colorama in c:\\users\\surface\\miniconda3\\envs\\transformers-py310\\lib\\site-packages (from tqdm->peft) (0.4.6)\n",
      "Requirement already satisfied: MarkupSafe>=2.0 in c:\\users\\surface\\miniconda3\\envs\\transformers-py310\\lib\\site-packages (from jinja2->torch>=1.13.0->peft) (2.1.5)\n",
      "Requirement already satisfied: charset_normalizer<4,>=2 in c:\\users\\surface\\miniconda3\\envs\\transformers-py310\\lib\\site-packages (from requests->huggingface_hub>=0.25.0->peft) (3.4.3)\n",
      "Requirement already satisfied: idna<4,>=2.5 in c:\\users\\surface\\miniconda3\\envs\\transformers-py310\\lib\\site-packages (from requests->huggingface_hub>=0.25.0->peft) (3.10)\n",
      "Requirement already satisfied: urllib3<3,>=1.21.1 in c:\\users\\surface\\miniconda3\\envs\\transformers-py310\\lib\\site-packages (from requests->huggingface_hub>=0.25.0->peft) (2.5.0)\n",
      "Requirement already satisfied: certifi>=2017.4.17 in c:\\users\\surface\\miniconda3\\envs\\transformers-py310\\lib\\site-packages (from requests->huggingface_hub>=0.25.0->peft) (2025.10.5)\n",
      "Requirement already satisfied: regex!=2019.12.17 in c:\\users\\surface\\miniconda3\\envs\\transformers-py310\\lib\\site-packages (from transformers->peft) (2025.9.18)\n",
      "Requirement already satisfied: tokenizers<=0.23.0,>=0.22.0 in c:\\users\\surface\\miniconda3\\envs\\transformers-py310\\lib\\site-packages (from transformers->peft) (0.22.1)\n"
     ]
    }
   ],
   "source": [
    "!pip install peft"
   ]
  },
  {
   "cell_type": "code",
   "execution_count": 20,
   "id": "20c992ab",
   "metadata": {},
   "outputs": [
    {
     "name": "stdout",
     "output_type": "stream",
     "text": [
      "Dataset({\n",
      "    features: ['text', 'label'],\n",
      "    num_rows: 30\n",
      "})\n",
      "Dataset({\n",
      "    features: ['text', 'label'],\n",
      "    num_rows: 30\n",
      "})\n"
     ]
    }
   ],
   "source": [
    "dataset = load_dataset(\"ag_news\")\n",
    "\n",
    "# 取每个 split 的前 30 条，并打乱\n",
    "train_ds = dataset[\"train\"].shuffle(seed=42).select(range(30))\n",
    "test_ds = dataset[\"test\"].shuffle(seed=42).select(range(30))\n",
    "\n",
    "print(train_ds)\n",
    "print(test_ds)\n"
   ]
  },
  {
   "cell_type": "code",
   "execution_count": 21,
   "id": "495be7d2",
   "metadata": {},
   "outputs": [
    {
     "name": "stderr",
     "output_type": "stream",
     "text": [
      "Some weights of BertForSequenceClassification were not initialized from the model checkpoint at bert-base-uncased and are newly initialized: ['classifier.bias', 'classifier.weight']\n",
      "You should probably TRAIN this model on a down-stream task to be able to use it for predictions and inference.\n"
     ]
    }
   ],
   "source": [
    "from transformers import AutoTokenizer, AutoModelForSequenceClassification\n",
    "\n",
    "model_name = \"bert-base-uncased\"  # 初学者推荐小模型\n",
    "tokenizer = AutoTokenizer.from_pretrained(model_name)\n",
    "\n",
    "model = AutoModelForSequenceClassification.from_pretrained(model_name, num_labels=4)\n"
   ]
  },
  {
   "cell_type": "code",
   "execution_count": 22,
   "id": "eebacef5",
   "metadata": {},
   "outputs": [],
   "source": [
    "training_args = TrainingArguments(\n",
    "    output_dir=\"./p_tuning_demo\",\n",
    "    per_device_train_batch_size=4,\n",
    "    per_device_eval_batch_size=4,\n",
    "    num_train_epochs=3,\n",
    "    learning_rate=5e-4,\n",
    "    logging_steps=10,\n",
    "    do_eval=True\n",
    ")\n",
    "\n"
   ]
  },
  {
   "cell_type": "code",
   "execution_count": 23,
   "id": "5933a1ea",
   "metadata": {},
   "outputs": [
    {
     "name": "stderr",
     "output_type": "stream",
     "text": [
      "Map: 100%|██████████| 30/30 [00:01<00:00, 26.39 examples/s]\n",
      "Map: 100%|██████████| 30/30 [00:00<00:00, 87.20 examples/s] \n"
     ]
    }
   ],
   "source": [
    "def tokenize_function(example):\n",
    "    return tokenizer(example[\"text\"], truncation=True, padding=\"max_length\", max_length=128)\n",
    "\n",
    "tokenized_train = train_ds.map(tokenize_function, batched=True)\n",
    "tokenized_test = test_ds.map(tokenize_function, batched=True)\n"
   ]
  },
  {
   "cell_type": "code",
   "execution_count": 24,
   "id": "55c8e79f",
   "metadata": {},
   "outputs": [],
   "source": [
    "\n",
    "\n",
    "from peft import IA3Config, get_peft_model\n",
    "\n",
    "# 定义 IA3 配置\n",
    "peft_config = IA3Config(\n",
    "    task_type=\"SEQ_CLS\",          # 序列分类\n",
    "    inference_mode=False,         # 训练模式\n",
    "    target_modules=[\"query\", \"value\"]  # 可微调的模块\n",
    ")\n",
    "\n",
    "# 将模型改造成可微调的 IA3 模型\n",
    "model = get_peft_model(model, peft_config)\n",
    "\n"
   ]
  },
  {
   "cell_type": "code",
   "execution_count": 25,
   "id": "97694af7",
   "metadata": {},
   "outputs": [
    {
     "name": "stderr",
     "output_type": "stream",
     "text": [
      "C:\\Users\\surface\\AppData\\Local\\Temp\\ipykernel_12580\\555707595.py:15: FutureWarning: `tokenizer` is deprecated and will be removed in version 5.0.0 for `Trainer.__init__`. Use `processing_class` instead.\n",
      "  trainer = Trainer(\n"
     ]
    }
   ],
   "source": [
    "from transformers import TrainingArguments, Trainer\n",
    "\n",
    "training_args = TrainingArguments(\n",
    "    output_dir=\"./ia3_news_model\",\n",
    "    num_train_epochs=3,\n",
    "    per_device_train_batch_size=16,\n",
    "    per_device_eval_batch_size=16,\n",
    "    logging_dir=\"./logs\",\n",
    "    logging_steps=50,\n",
    "    learning_rate=5e-4,\n",
    "    do_train=True,\n",
    "    do_eval=True,\n",
    ")\n",
    "\n",
    "trainer = Trainer(\n",
    "    model=model,\n",
    "    args=training_args,\n",
    "    train_dataset=tokenized_train,\n",
    "    eval_dataset=tokenized_test,\n",
    "    tokenizer=tokenizer,\n",
    ")\n"
   ]
  },
  {
   "cell_type": "code",
   "execution_count": 26,
   "id": "ac189655",
   "metadata": {},
   "outputs": [
    {
     "name": "stderr",
     "output_type": "stream",
     "text": [
      "c:\\Users\\surface\\miniconda3\\envs\\transformers-py310\\lib\\site-packages\\torch\\utils\\data\\dataloader.py:666: UserWarning: 'pin_memory' argument is set as true but no accelerator is found, then device pinned memory won't be used.\n",
      "  warnings.warn(warn_msg)\n"
     ]
    },
    {
     "data": {
      "text/html": [
       "\n",
       "    <div>\n",
       "      \n",
       "      <progress value='6' max='6' style='width:300px; height:20px; vertical-align: middle;'></progress>\n",
       "      [6/6 01:23, Epoch 3/3]\n",
       "    </div>\n",
       "    <table border=\"1\" class=\"dataframe\">\n",
       "  <thead>\n",
       " <tr style=\"text-align: left;\">\n",
       "      <th>Step</th>\n",
       "      <th>Training Loss</th>\n",
       "    </tr>\n",
       "  </thead>\n",
       "  <tbody>\n",
       "  </tbody>\n",
       "</table><p>"
      ],
      "text/plain": [
       "<IPython.core.display.HTML object>"
      ]
     },
     "metadata": {},
     "output_type": "display_data"
    },
    {
     "data": {
      "text/plain": [
       "TrainOutput(global_step=6, training_loss=1.3973124821980794, metrics={'train_runtime': 117.1814, 'train_samples_per_second': 0.768, 'train_steps_per_second': 0.051, 'total_flos': 5921591685120.0, 'train_loss': 1.3973124821980794, 'epoch': 3.0})"
      ]
     },
     "execution_count": 26,
     "metadata": {},
     "output_type": "execute_result"
    }
   ],
   "source": [
    "trainer.train()\n"
   ]
  },
  {
   "cell_type": "code",
   "execution_count": 27,
   "id": "cf6c26d0",
   "metadata": {},
   "outputs": [
    {
     "name": "stderr",
     "output_type": "stream",
     "text": [
      "c:\\Users\\surface\\miniconda3\\envs\\transformers-py310\\lib\\site-packages\\torch\\utils\\data\\dataloader.py:666: UserWarning: 'pin_memory' argument is set as true but no accelerator is found, then device pinned memory won't be used.\n",
      "  warnings.warn(warn_msg)\n"
     ]
    },
    {
     "data": {
      "text/html": [
       "\n",
       "    <div>\n",
       "      \n",
       "      <progress value='2' max='2' style='width:300px; height:20px; vertical-align: middle;'></progress>\n",
       "      [2/2 00:04]\n",
       "    </div>\n",
       "    "
      ],
      "text/plain": [
       "<IPython.core.display.HTML object>"
      ]
     },
     "metadata": {},
     "output_type": "display_data"
    },
    {
     "name": "stdout",
     "output_type": "stream",
     "text": [
      "{'eval_loss': 1.3803499937057495, 'eval_runtime': 10.1401, 'eval_samples_per_second': 2.959, 'eval_steps_per_second': 0.197, 'epoch': 3.0}\n"
     ]
    }
   ],
   "source": [
    "results = trainer.evaluate()\n",
    "print(results)\n"
   ]
  },
  {
   "cell_type": "code",
   "execution_count": null,
   "id": "6b10bf76",
   "metadata": {},
   "outputs": [],
   "source": []
  }
 ],
 "metadata": {
  "kernelspec": {
   "display_name": "transformers-py310",
   "language": "python",
   "name": "python3"
  },
  "language_info": {
   "codemirror_mode": {
    "name": "ipython",
    "version": 3
   },
   "file_extension": ".py",
   "mimetype": "text/x-python",
   "name": "python",
   "nbconvert_exporter": "python",
   "pygments_lexer": "ipython3",
   "version": "3.10.18"
  }
 },
 "nbformat": 4,
 "nbformat_minor": 5
}
