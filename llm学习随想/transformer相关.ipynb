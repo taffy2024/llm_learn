{
 "cells": [
  {
   "cell_type": "markdown",
   "id": "5e066335",
   "metadata": {},
   "source": [
    "<img src=\"Transformer.png\" alt=\"图片描述\" width=\"400\">\n"
   ]
  },
  {
   "cell_type": "markdown",
   "id": "ee93e40d",
   "metadata": {},
   "source": [
    "# Transformer架构设计"
   ]
  },
  {
   "cell_type": "markdown",
   "id": "facdecd6",
   "metadata": {},
   "source": [
    "## 一、文本序列、词嵌入与位置编码"
   ]
  },
  {
   "cell_type": "markdown",
   "id": "69bff493",
   "metadata": {},
   "source": [
    "## step1\n",
    "使用分词器将输入的文本序列分割成独立的token单词序列，再通过预设的词汇表将token单词序列转换成对映的数字索引"
   ]
  },
  {
   "cell_type": "markdown",
   "id": "30a625a3",
   "metadata": {},
   "source": [
    "<img src=\"embedding.png\" alt=\"图片描述\" width=\"400\">"
   ]
  },
  {
   "cell_type": "markdown",
   "id": "dd5d58fe",
   "metadata": {},
   "source": [
    "## step2\n",
    "单词的数字索引序列分别经input embedding和output embedding转化成相应词向量序列"
   ]
  },
  {
   "cell_type": "markdown",
   "id": "ae2df553",
   "metadata": {},
   "source": [
    "<img src=\"input embedding.png\" alt=\"图片描述\" width=\"500\">\n",
    "<img src=\"output embedding.png\" alt=\"图片描述\" width=\"500\">"
   ]
  },
  {
   "cell_type": "markdown",
   "id": "69dcb5e6",
   "metadata": {},
   "source": [
    "## step3:positional embedding\n",
    "位置编码将位置信息“附加”到原始信息上：词向量的每个元素都对应一个位置编码。\n",
    "将位置编码矩阵直接加到原始的词向量矩阵"
   ]
  },
  {
   "cell_type": "markdown",
   "id": "4833e7d5",
   "metadata": {},
   "source": [
    "<img src=\"positional embedding.png\" alt=\"图片描述\" width=\"500\">"
   ]
  },
  {
   "cell_type": "markdown",
   "id": "3935fd73",
   "metadata": {},
   "source": [
    "## Transformer中数据的保存结构与尺寸？"
   ]
  },
  {
   "cell_type": "markdown",
   "id": "12f93258",
   "metadata": {},
   "source": [
    "当两组索引依次经过词嵌入与位置编码的计算后，得到一个三维张量"
   ]
  },
  {
   "cell_type": "markdown",
   "id": "d79ed726",
   "metadata": {},
   "source": [
    "<img src=\"data in transformer.png\" alt=\"图片描述\" width=\"700\">"
   ]
  },
  {
   "cell_type": "markdown",
   "id": "b613d790",
   "metadata": {},
   "source": [
    "batch size:一次训练或推理时处理的样本数量\n",
    "sequence length:每个样本的token数量(如每个句子包含20个单词)\n",
    "embedding dim:每个token被映射到的向量维度"
   ]
  },
  {
   "cell_type": "markdown",
   "id": "8ca9404a",
   "metadata": {},
   "source": [
    "## Encoder & Decoder"
   ]
  },
  {
   "cell_type": "markdown",
   "id": "b3240d47",
   "metadata": {},
   "source": [
    "•Transformer的核心架构由多个编码器与解码器堆叠而成"
   ]
  },
  {
   "cell_type": "markdown",
   "id": "a9005eac",
   "metadata": {},
   "source": [
    "•在多头自注意力与FFN计算前后，张量X的形状不变"
   ]
  },
  {
   "cell_type": "markdown",
   "id": "8df0aca5",
   "metadata": {},
   "source": [
    "• 自注意力计算简述：矩阵点乘再加权、求和，最后加回原矩阵（残差连接）"
   ]
  },
  {
   "cell_type": "markdown",
   "id": "d32b7c15",
   "metadata": {},
   "source": [
    "## 自注意力机制的计算"
   ]
  },
  {
   "cell_type": "markdown",
   "id": "52587362",
   "metadata": {},
   "source": [
    "<img src=\"multiselfattention1.jpg\" alt=\"图片描述\" width=\"400\">"
   ]
  },
  {
   "cell_type": "markdown",
   "id": "2940ce61",
   "metadata": {},
   "source": [
    "## 由自注意力机制到多头自注意力机制"
   ]
  },
  {
   "cell_type": "markdown",
   "id": "3335fa97",
   "metadata": {},
   "source": [
    "<img src=\"multiselfattention2.jpg\" alt=\"图片描述\" width=\"500\">"
   ]
  },
  {
   "cell_type": "markdown",
   "id": "b0013683",
   "metadata": {},
   "source": [
    "• 层归一化：只作用于X的特征维度，避免训练中产生梯度消失或梯度爆炸"
   ]
  },
  {
   "cell_type": "markdown",
   "id": "5212d0b0",
   "metadata": {},
   "source": [
    "## layernorm的计算"
   ]
  },
  {
   "cell_type": "markdown",
   "id": "dc19e4e2",
   "metadata": {},
   "source": [
    "<img src=\"layernorm.jpg\" alt=\"图片描述\" width=\"500\">"
   ]
  },
  {
   "cell_type": "markdown",
   "id": "c0683241",
   "metadata": {},
   "source": [
    "## 解码器的输出X3的最后处理"
   ]
  },
  {
   "cell_type": "markdown",
   "id": "7c7ca36a",
   "metadata": {},
   "source": [
    "<img src=\"transformer_last.png\" alt=\"图片描述\" width=\"400\">"
   ]
  },
  {
   "cell_type": "markdown",
   "id": "ec54530f",
   "metadata": {},
   "source": [
    "• X3的维度变化：X3(batch_size,seq_len,dimension)---\"linear\"--->(batch_size,seq_len,vocab_size)"
   ]
  },
  {
   "cell_type": "markdown",
   "id": "f828657d",
   "metadata": {},
   "source": [
    "• 词表大小vocab_size表示模型所包含不同token的总个数，线性层Linear将解码器输出的语义向量映射成与词表大小相匹配的维度"
   ]
  },
  {
   "cell_type": "markdown",
   "id": "572ab39f",
   "metadata": {},
   "source": [
    "• softmax：为当前位置所有可能token生成概率分布"
   ]
  },
  {
   "cell_type": "markdown",
   "id": "3d2b301a",
   "metadata": {},
   "source": [
    "## 主流架构"
   ]
  },
  {
   "cell_type": "markdown",
   "id": "1cc9859a",
   "metadata": {},
   "source": [
    "<img src=\"主流架构.png\" alt=\"图片描述\" width=\"1000\">"
   ]
  },
  {
   "cell_type": "markdown",
   "id": "b0ef59a3",
   "metadata": {},
   "source": []
  }
 ],
 "metadata": {
  "language_info": {
   "name": "python"
  }
 },
 "nbformat": 4,
 "nbformat_minor": 5
}
